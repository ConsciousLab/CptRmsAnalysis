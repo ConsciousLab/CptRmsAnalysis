{
 "cells": [
  {
   "cell_type": "code",
   "execution_count": 755,
   "metadata": {},
   "outputs": [],
   "source": [
    "import pandas as pd\n",
    "import json\n",
    "import numpy as np\n",
    "import statistics\n",
    "import matplotlib.pyplot as plt\n",
    "from scipy.stats import pearsonr"
   ]
  },
  {
   "cell_type": "code",
   "execution_count": 756,
   "metadata": {},
   "outputs": [
    {
     "data": {
      "text/plain": [
       "Index(['Unnamed: 0', 'block', 'browser', 'color', 'cookies', 'correct',\n",
       "       'cpt_response', 'current_time', 'inter_stimulus_interval_index',\n",
       "       'inter_stimulus_interval_time', 'is_fullscreen', 'key_press', 'mobile',\n",
       "       'os', 'response', 'responses', 'rt', 'shape', 'stimulus',\n",
       "       'stimulus_block', 'stimulus_side', 'sub_block', 'subject', 'tags1',\n",
       "       'tags2', 'time_elapsed', 'time_post_trial', 'trial_began',\n",
       "       'trial_index', 'trial_type', 'type', 'stimulus_missed'],\n",
       "      dtype='object')"
      ]
     },
     "execution_count": 756,
     "metadata": {},
     "output_type": "execute_result"
    }
   ],
   "source": [
    "df = pd.read_csv('data/Experiment_Result.csv')\n",
    "df.head()\n",
    "df.columns"
   ]
  },
  {
   "cell_type": "code",
   "execution_count": 757,
   "metadata": {},
   "outputs": [
    {
     "name": "stdout",
     "output_type": "stream",
     "text": [
      "Not fullscreen: (0, 32)\n"
     ]
    }
   ],
   "source": [
    "print('Not fullscreen:', df[df.is_fullscreen == False].shape)"
   ]
  },
  {
   "cell_type": "code",
   "execution_count": 758,
   "metadata": {},
   "outputs": [],
   "source": [
    "df.drop(df[~df['inter_stimulus_interval_index'].isnull()].index)\n",
    "df.drop(df.loc[(df['trial_type'] == 'survey-text') &\n",
    "        (~df['color'].isnull())].index, inplace=True)\n",
    "df.drop(df.loc[(df['trial_type'] == 'survey-text') &\n",
    "        (~df['cpt_response'].isnull())].index, inplace=True)\n",
    "df.drop(df.loc[(df['trial_type'] == 'survey-multi-choice')\n",
    "        & (~df['color'].isnull())].index, inplace=True)\n",
    "df.drop(df.loc[(df['trial_type'] == 'survey-multi-choice') &\n",
    "        (~df['cpt_response'].isnull())].index, inplace=True)\n",
    "df.drop(df.loc[(df['trial_type'] == 'survey-likert') &\n",
    "        (~df['color'].isnull())].index, inplace=True)\n",
    "df.drop(df.loc[(df['trial_type'] == 'survey-likert') &\n",
    "        (~df['cpt_response'].isnull())].index, inplace=True)\n",
    "df['current_time'] = pd.to_numeric(df['current_time'])\n"
   ]
  },
  {
   "cell_type": "code",
   "execution_count": 759,
   "metadata": {},
   "outputs": [
    {
     "name": "stdout",
     "output_type": "stream",
     "text": [
      "4235\n"
     ]
    }
   ],
   "source": [
    "last_time = -1\n",
    "last_index = -1\n",
    "lst = []\n",
    "for index, row in df.iterrows():\n",
    "    if row.trial_type != 'conjunctive-cpt':\n",
    "        last_index = -1\n",
    "        continue\n",
    "    if row.current_time < last_time:\n",
    "        lst.append(last_index)\n",
    "    else:\n",
    "        last_index = index\n",
    "    last_time = row.current_time\n",
    "print(len(lst))\n"
   ]
  },
  {
   "cell_type": "code",
   "execution_count": 760,
   "metadata": {},
   "outputs": [
    {
     "name": "stdout",
     "output_type": "stream",
     "text": [
      "(43494, 32)\n",
      "(39259, 32)\n"
     ]
    }
   ],
   "source": [
    "print(df.shape)\n",
    "df.drop(lst, inplace=True)\n",
    "print(df.shape)"
   ]
  },
  {
   "cell_type": "code",
   "execution_count": 761,
   "metadata": {},
   "outputs": [],
   "source": [
    "df.drop(df.loc[df['trial_type'] == 'instructions'].index, inplace=True)"
   ]
  },
  {
   "cell_type": "code",
   "execution_count": 762,
   "metadata": {},
   "outputs": [],
   "source": [
    "count = 0\n",
    "df_lst = []\n",
    "bad_boys_lst = []\n",
    "peoples_lst = []\n",
    "one_df = pd.DataFrame()\n",
    "for index, row in df.iterrows():\n",
    "    if row['Unnamed: 0'] == 1 and not one_df.empty:\n",
    "        brms_df = one_df[(one_df.trial_type == 'bRMS') &\n",
    "                         (one_df.stimulus_block != \"training\")]\n",
    "        brms_missed = brms_df[((brms_df.key_press != 'P') & (brms_df.stimulus_side == 0)) | (\n",
    "            (brms_df.key_press != 'Q') & (brms_df.stimulus_side == 1))]\n",
    "        if brms_missed.shape[0] / 60 < 0.15:\n",
    "            df_lst.append(one_df.copy())\n",
    "        else:\n",
    "            bad_boys_lst.append(one_df.copy())\n",
    "        peoples_lst.append(brms_missed.shape[0] / 60)\n",
    "        one_df = pd.DataFrame()\n",
    "    one_df = one_df.append(row)\n"
   ]
  },
  {
   "cell_type": "code",
   "execution_count": 763,
   "metadata": {},
   "outputs": [],
   "source": [
    "def shaming():\n",
    "    for bad_boy in bad_boys_lst:\n",
    "        brms_df = bad_boy[(bad_boy.trial_type == 'bRMS') &\n",
    "                          (bad_boy.stimulus_block != \"training\")]\n",
    "\n",
    "        print(brms_df.groupby(by=['key_press']).trial_type.count())\n",
    "        plt.xlabel('rt')\n",
    "        plt.ylabel('count')\n",
    "        plt.hist(brms_df.rt, bins=100)\n",
    "        plt.show()\n",
    "    peoples = {'Shit': 0, 'Stupid': 0, 'Decent': 0}\n",
    "    for one in peoples_lst:\n",
    "        if one >= 0.45:\n",
    "            peoples['Shit'] += 1\n",
    "        elif one >= 0.15:\n",
    "            peoples['Stupid'] += 1\n",
    "        else:\n",
    "            peoples['Decent'] += 1\n",
    "    print(peoples)\n"
   ]
  },
  {
   "cell_type": "code",
   "execution_count": 764,
   "metadata": {},
   "outputs": [
    {
     "data": {
      "text/plain": [
       "trial_type\n",
       "bRMS                    3150\n",
       "conjunctive-cpt        34724\n",
       "survey-likert            450\n",
       "survey-multi-choice      360\n",
       "survey-text              225\n",
       "dtype: int64"
      ]
     },
     "execution_count": 764,
     "metadata": {},
     "output_type": "execute_result"
    }
   ],
   "source": [
    "df.groupby(['trial_type']).size()"
   ]
  },
  {
   "cell_type": "code",
   "execution_count": 765,
   "metadata": {},
   "outputs": [],
   "source": [
    "cpt_training_options = [6, 13, 78, 85]\n",
    "cpt_options = [8, 15, 80, 87]\n",
    "asrs_options = [6, 10, 78, 82]\n",
    "\n",
    "values = {\n",
    "    \"age\": 2,\n",
    "    \"brms_understood\": [88],\n",
    "    \"brms_stratagy_exist\": [89],\n",
    "    \"brms_stratagy\": [90],\n",
    "    \"cpt_understood\": [91],\n",
    "    \"cpt_stratagy_exist\": [92],\n",
    "    \"cpt_stratagy\": [93],\n",
    "    \"your_driving\": [94],\n",
    "    \"accedint_driver\": [95],\n",
    "    \"accedint_walker\": [96],\n",
    "    \"hps1\": [98],\n",
    "    \"hps2\": [99],\n",
    "    \"hps3\": [100],\n",
    "    \"hps4\": [101],\n",
    "}"
   ]
  },
  {
   "cell_type": "code",
   "execution_count": 766,
   "metadata": {},
   "outputs": [],
   "source": [
    "def word_to_bool(x):\n",
    "    if type(x) == str:\n",
    "        if str.lower(x) in ['כן', 'ימין','נכון', 'אישה']:\n",
    "            return 1\n",
    "        else:\n",
    "            return 0\n",
    "    else:\n",
    "        return x"
   ]
  },
  {
   "cell_type": "code",
   "execution_count": 767,
   "metadata": {},
   "outputs": [],
   "source": [
    "def get_hps_count(single_df):\n",
    "    count = 0\n",
    "    for i in range(98, 102):\n",
    "        answer_df = single_df[(single_df.trial_index == i)\n",
    "                              & (~single_df.responses.isnull())].responses\n",
    "        obj = json.loads(answer_df.iloc[0])\n",
    "        count += word_to_bool(obj.get('Q0')) + \\\n",
    "            word_to_bool(obj.get('Q1')) + word_to_bool(obj.get('Q2'))\n",
    "    return count\n"
   ]
  },
  {
   "cell_type": "code",
   "execution_count": 768,
   "metadata": {},
   "outputs": [],
   "source": [
    "def get_asrs_start(single_df):\n",
    "    for option in asrs_options:\n",
    "        asrs_1 = single_df[(single_df.trial_index == option)\n",
    "                           & (~single_df.responses.isnull())]\n",
    "        if not asrs_1.empty:\n",
    "            return option\n"
   ]
  },
  {
   "cell_type": "code",
   "execution_count": 769,
   "metadata": {},
   "outputs": [],
   "source": [
    "def get_asrs_answers(single_df):\n",
    "    start_asrs = get_asrs_start(single_df)\n",
    "    asrs_1_df = single_df[(single_df.trial_index == start_asrs) & (\n",
    "        ~single_df.responses.isnull())].responses\n",
    "\n",
    "    asrs_1_obj = json.loads(asrs_1_df.iloc[0])\n",
    "    asrs_1 = asrs_1_obj.get('Q0')\n",
    "    asrs_2 = asrs_1_obj.get('Q1')\n",
    "    asrs_3 = asrs_1_obj.get('Q2')\n",
    "\n",
    "    asrs_2_df = single_df[(single_df.trial_index == start_asrs + 1)\n",
    "                          & (~single_df.responses.isnull())].responses\n",
    "    asrs_2_obj = json.loads(asrs_2_df.iloc[0])\n",
    "    asrs_4 = asrs_2_obj.get('Q0')\n",
    "    asrs_5 = asrs_2_obj.get('Q1')\n",
    "    asrs_6 = asrs_2_obj.get('Q2')\n",
    "\n",
    "    asrs_3_df = single_df[(single_df.trial_index == start_asrs + 2)\n",
    "                          & (~single_df.responses.isnull())].responses\n",
    "    obj = json.loads(asrs_3_df.iloc[0])\n",
    "    asrs_7 = obj.get('Q0')\n",
    "    asrs_8 = obj.get('Q1')\n",
    "    asrs_9 = obj.get('Q2')\n",
    "\n",
    "    asrs_4_df = single_df[(single_df.trial_index == start_asrs + 3)\n",
    "                          & (~single_df.responses.isnull())].responses\n",
    "    obj = json.loads(asrs_4_df.iloc[0])\n",
    "    asrs_10 = obj.get('Q0')\n",
    "    asrs_11 = obj.get('Q1')\n",
    "    asrs_12 = obj.get('Q2')\n",
    "\n",
    "    asrs_5_df = single_df[(single_df.trial_index == start_asrs + 4)\n",
    "                          & (~single_df.responses.isnull())].responses\n",
    "    obj = json.loads(asrs_5_df.iloc[0])\n",
    "    asrs_13 = obj.get('Q0')\n",
    "    asrs_14 = obj.get('Q1')\n",
    "    asrs_15 = obj.get('Q2')\n",
    "\n",
    "    asrs_6_df = single_df[(single_df.trial_index == start_asrs + 5)\n",
    "                          & (~single_df.responses.isnull())].responses\n",
    "    obj = json.loads(asrs_6_df.iloc[0])\n",
    "    asrs_16 = obj.get('Q0')\n",
    "    asrs_17 = obj.get('Q1')\n",
    "    asrs_18 = obj.get('Q2')\n",
    "\n",
    "    sum_part_one = asrs_1 + asrs_2 + asrs_3 + asrs_4 + asrs_5 + asrs_6\n",
    "    sum_part_two = asrs_7 + asrs_8 + asrs_9 + asrs_10 + asrs_11 + \\\n",
    "        asrs_12 + asrs_13 + asrs_14 + asrs_15 + asrs_16 + asrs_17 + asrs_18\n",
    "\n",
    "    return [sum_part_one, sum_part_two]\n"
   ]
  },
  {
   "cell_type": "code",
   "execution_count": 770,
   "metadata": {},
   "outputs": [],
   "source": [
    "def get_values(single_df):\n",
    "    lst = []\n",
    "    for key, value in values.items():\n",
    "        currnet = single_df[(single_df.trial_index == value[0]) & (~single_df.responses.isnull())].responses\n",
    "        print(currnet.empty, value[0])\n",
    "        obj = json.loads(currnet.iloc[0])\n",
    "        if len(obj.keys()) > 1:\n",
    "            for i in range(len(obj.keys())):\n",
    "                lst.append(obj.get('Q' + str(i)))\n",
    "        else:   \n",
    "            lst.append(obj.get('Q0'))\n",
    "    return lst"
   ]
  },
  {
   "cell_type": "code",
   "execution_count": 771,
   "metadata": {},
   "outputs": [],
   "source": [
    "def is_cpt_stimulus(cpt_df):\n",
    "    return cpt_df['shape'] == 'square' and cpt_df['color'] == '#FF0000'"
   ]
  },
  {
   "cell_type": "code",
   "execution_count": 772,
   "metadata": {},
   "outputs": [],
   "source": [
    "def get_cpt_df(single_df):\n",
    "    cpt_df = single_df[single_df.trial_type == 'conjunctive-cpt']\n",
    "    trial_types = cpt_df.trial_index.unique()\n",
    "    cpt_df = cpt_df[cpt_df.trial_index == trial_types[1]]\n",
    "    cpt_df['is_cpt_stimulus'] = cpt_df.apply(is_cpt_stimulus, axis=1)\n",
    "    cpt_df = cpt_df[(cpt_df.is_cpt_stimulus == True) | (cpt_df.cpt_response == 1)]\n",
    "    return cpt_df"
   ]
  },
  {
   "cell_type": "code",
   "execution_count": 773,
   "metadata": {},
   "outputs": [],
   "source": [
    "def get_clean_cpt_df(single_df):\n",
    "    cpt_df = get_cpt_df(single_df)\n",
    "    rapid_cpt_response_indexes = []\n",
    "    last_is_response = False\n",
    "    count = 0\n",
    "    for index, row in cpt_df.iterrows():\n",
    "        if row.trial_type != 'conjunctive-cpt':\n",
    "            continue\n",
    "        elif row.cpt_response == 1:\n",
    "            if last_is_response:\n",
    "                count += 1\n",
    "                rapid_cpt_response_indexes.append(index)\n",
    "            else:\n",
    "                last_is_response = True\n",
    "        else:\n",
    "            last_is_response = False\n",
    "    cpt_df.drop(rapid_cpt_response_indexes, inplace=True)\n",
    "    return cpt_df\n"
   ]
  },
  {
   "cell_type": "code",
   "execution_count": 774,
   "metadata": {},
   "outputs": [],
   "source": [
    "def get_cpt_result_df(single_df):\n",
    "    cpt_df = get_clean_cpt_df(single_df)\n",
    "    cpt_df.to_csv('cpt_df.csv')\n",
    "    cpt_df['cpt_response_time']  = cpt_df['current_time'].diff()\n",
    "    cpt_df['cpt_response_time']  = cpt_df[cpt_df.cpt_response_time > 0.1].cpt_response_time\n",
    "    cpt_df['cpt_response_time'] = np.log(cpt_df['cpt_response_time'])\n",
    "    return cpt_df"
   ]
  },
  {
   "cell_type": "code",
   "execution_count": 775,
   "metadata": {},
   "outputs": [],
   "source": [
    "def get_cpt_resuslt(single_df):\n",
    "    cpt_df = get_cpt_result_df(single_df)\n",
    "    return cpt_df['cpt_response_time']\n"
   ]
  },
  {
   "cell_type": "code",
   "execution_count": 794,
   "metadata": {},
   "outputs": [],
   "source": [
    "def get_standards_cpt_result(single_df):\n",
    "    cpt_result = get_cpt_result_df(single_df)\n",
    "    cpt_result_mean = cpt_result.cpt_response_time.mean()\n",
    "    cpt_result_std = cpt_result.cpt_response_time.std()\n",
    "    cpt_standard_df = cpt_result[(cpt_result.cpt_response_time > cpt_result_mean - 3 * cpt_result_std) & (cpt_result.cpt_response_time < cpt_result_mean + 3 * cpt_result_std)]    \n",
    "    return cpt_standard_df.cpt_response_time"
   ]
  },
  {
   "cell_type": "code",
   "execution_count": 777,
   "metadata": {},
   "outputs": [],
   "source": [
    "def get_age(single_df):\n",
    "    age_df = single_df[single_df.trial_index == 2].responses\n",
    "    return json.loads(age_df.iloc[0]).get(\"Q0\")"
   ]
  },
  {
   "cell_type": "code",
   "execution_count": 778,
   "metadata": {},
   "outputs": [],
   "source": [
    "def get_q1_answers(single_df):\n",
    "    q1_df = single_df[single_df.trial_index == 1].responses\n",
    "    q1_obj = json.loads(q1_df.iloc[0])\n",
    "    return [q1_obj.get('Q0'), q1_obj.get('Q1'), q1_obj.get('Q2')]"
   ]
  },
  {
   "cell_type": "code",
   "execution_count": 779,
   "metadata": {},
   "outputs": [],
   "source": [
    "def get_one_value(single_df, index):\n",
    "    try:\n",
    "        value_df = single_df[single_df.trial_index == index].responses\n",
    "        return json.loads(value_df.iloc[0]).get(\"Q0\")\n",
    "    except:\n",
    "        return ''\n"
   ]
  },
  {
   "cell_type": "code",
   "execution_count": 780,
   "metadata": {},
   "outputs": [],
   "source": [
    "def get_brms_df(single_df):\n",
    "    brms_df = single_df[(single_df.trial_type == 'bRMS') &\n",
    "                        (single_df.stimulus_block != \"training\")]\n",
    "    brms_df = brms_df[~(((brms_df.key_press != 'P') & (brms_df.stimulus_side == 0)) | (\n",
    "        (brms_df.key_press != 'Q') & (brms_df.stimulus_side == 1)))]\n",
    "    brms_df = brms_df[(brms_df.rt < 8000) & (brms_df.rt > 100)]\n",
    "    brms_df['rt'] = np.log(brms_df.rt)\n",
    "    return brms_df\n"
   ]
  },
  {
   "cell_type": "code",
   "execution_count": 781,
   "metadata": {},
   "outputs": [],
   "source": [
    "def get_rms_standards(brms_df):\n",
    "    mean_rt = brms_df.rt.mean()\n",
    "    std_rt = brms_df.rt.std()\n",
    "    brms_standard_df = brms_df[(brms_df.rt > mean_rt - 3 * std_rt) & (brms_df.rt < mean_rt + 3 * std_rt)]    \n",
    "    return brms_standard_df\n",
    "    "
   ]
  },
  {
   "cell_type": "code",
   "execution_count": 816,
   "metadata": {},
   "outputs": [],
   "source": [
    "def get_rms_values(single_df):\n",
    "    brms_df = get_rms_standards(get_brms_df(single_df))\n",
    "    rt_blocks_mean = brms_df.groupby('stimulus_block').rt\n",
    "    blocks_rt = rt_blocks_mean.apply(list)\n",
    "    return [brms_df.rt.mean(), brms_df.rt.std(), \n",
    "            statistics.mean(blocks_rt[0]), statistics.mean(blocks_rt[1]), statistics.mean(blocks_rt[2]), statistics.mean(blocks_rt[3]),\n",
    "            brms_df.stimulus_block, brms_df.shape[0]]\n"
   ]
  },
  {
   "cell_type": "code",
   "execution_count": 815,
   "metadata": {},
   "outputs": [
    {
     "name": "stdout",
     "output_type": "stream",
     "text": [
      "stimulus_block\n",
      "high_face           [7.407681720953566, 6.972793675876257, 7.68105...\n",
      "high_face_revert    [7.402512494801653, 7.495486386573494, 7.21435...\n",
      "low_face            [7.641612447972995, 7.179079283948638, 7.34349...\n",
      "low_face_revert     [7.343749592125124, 7.2258453076053, 7.4739209...\n",
      "Name: rt, dtype: object\n",
      "stimulus_block\n",
      "high_face           [7.594381242551817, 7.347106383043343, 7.41589...\n",
      "high_face_revert    [7.316415277955133, 7.316813922584594, 7.50845...\n",
      "low_face            [8.031157736480724, 7.259538276857213, 7.20310...\n",
      "low_face_revert     [7.509170868968622, 7.239645606115347, 7.90835...\n",
      "Name: rt, dtype: object\n",
      "stimulus_block\n",
      "high_face           [7.0707241072602764, 7.271842681841153, 7.2835...\n",
      "high_face_revert    [7.314952218919568, 7.27010409522012, 7.372118...\n",
      "low_face            [7.199304862960407, 7.285986214659201, 7.61189...\n",
      "low_face_revert     [7.351735723073931, 7.407196344575997, 7.55700...\n",
      "Name: rt, dtype: object\n",
      "stimulus_block\n",
      "high_face           [7.226427167565918, 7.4342573821331355, 7.3142...\n",
      "high_face_revert    [7.152503754944691, 7.549082710812286, 7.55150...\n",
      "low_face            [7.194962237726966, 7.297158753801382, 7.75538...\n",
      "low_face_revert     [7.475735983681521, 7.800408841246376, 7.27641...\n",
      "Name: rt, dtype: object\n",
      "stimulus_block\n",
      "high_face           [7.075301549871314, 7.121817722176074, 7.20221...\n",
      "high_face_revert    [7.381003638868054, 7.102334734113649, 7.03112...\n",
      "low_face            [7.463535148405631, 6.98100574072173, 7.026337...\n",
      "low_face_revert     [7.158280506146765, 7.228243302605358, 7.10052...\n",
      "Name: rt, dtype: object\n",
      "stimulus_block\n",
      "high_face           [7.11428152416262, 7.018938808284081, 7.183491...\n",
      "high_face_revert    [7.408833551293248, 7.733114232184813, 7.33758...\n",
      "low_face            [7.060132958092803, 7.124236688037228, 7.20139...\n",
      "low_face_revert     [7.436911859432851, 7.030149887870792, 7.29471...\n",
      "Name: rt, dtype: object\n",
      "stimulus_block\n",
      "high_face           [7.27399434006049, 7.5485559791698735, 7.84815...\n",
      "high_face_revert    [7.601402334583733, 7.206377291472252, 7.34948...\n",
      "low_face            [7.506042178518122, 7.483862897655147, 7.57507...\n",
      "low_face_revert     [7.9561263512135, 7.381750929259941, 7.1878083...\n",
      "Name: rt, dtype: object\n",
      "stimulus_block\n",
      "high_face           [7.543061460054325, 7.332303801317062, 6.84736...\n",
      "high_face_revert    [7.662091628213332, 7.094649697621226, 6.95939...\n",
      "low_face            [7.5923156984123805, 7.552289779821625, 7.4243...\n",
      "low_face_revert     [7.278904956411989, 7.037642538811546, 7.15664...\n",
      "Name: rt, dtype: object\n",
      "stimulus_block\n",
      "high_face           [7.883559426989792, 7.301485130871881, 7.41276...\n",
      "high_face_revert    [7.199230150812691, 7.188035021667156, 7.27427...\n",
      "low_face            [7.176560295372675, 7.825524917040416, 7.33849...\n",
      "low_face_revert     [7.402390543116782, 7.687401205508559, 7.08673...\n",
      "Name: rt, dtype: object\n",
      "stimulus_block\n",
      "high_face           [8.367857567158165, 7.442727024352784, 7.25276...\n",
      "high_face_revert    [8.280381657046568, 7.616775808698373, 7.26668...\n",
      "low_face            [8.277767807915476, 8.341577102364463, 7.42613...\n",
      "low_face_revert     [7.651357903030576, 7.835539704416663, 8.13311...\n",
      "Name: rt, dtype: object\n",
      "stimulus_block\n",
      "high_face           [7.04359650189355, 6.937702354979875, 6.885611...\n",
      "high_face_revert    [7.064331586024234, 7.111675235950786, 6.89891...\n",
      "low_face            [7.025004838693111, 6.941963449574592, 6.99796...\n",
      "low_face_revert     [7.227299324582662, 7.1127348596686755, 7.0997...\n",
      "Name: rt, dtype: object\n",
      "stimulus_block\n",
      "high_face           [7.058500166330742, 7.354426308145472, 7.12584...\n",
      "high_face_revert    [6.917507571558118, 6.896289799329384, 6.93692...\n",
      "low_face            [7.08631978689838, 7.215975002651466, 7.044381...\n",
      "low_face_revert     [7.353210035795148, 7.087657244575985, 7.32869...\n",
      "Name: rt, dtype: object\n",
      "stimulus_block\n",
      "high_face           [7.387956732968319, 7.182731978936364, 7.23439...\n",
      "high_face_revert    [7.321254692370902, 7.175872195939078, 7.27357...\n",
      "low_face            [7.161078798205272, 7.17096533833667, 7.412220...\n",
      "low_face_revert     [7.671826797878781, 7.066552291054593, 7.04132...\n",
      "Name: rt, dtype: object\n",
      "stimulus_block\n",
      "high_face           [7.607828419600977, 7.8539542666319795, 7.6087...\n",
      "high_face_revert    [7.246154229674635, 6.584238753554089, 7.58258...\n",
      "low_face            [7.242583307439687, 7.369852736716853, 7.48082...\n",
      "low_face_revert     [7.223295679562314, 7.228098133690773, 6.56357...\n",
      "Name: rt, dtype: object\n",
      "stimulus_block\n",
      "high_face           [6.937314081223682, 7.092324308950927, 6.84821...\n",
      "high_face_revert    [7.001973955262627, 7.218250148380477, 7.03948...\n",
      "low_face            [7.203554318684497, 7.061334366910438, 7.51980...\n",
      "low_face_revert     [7.493818237781581, 7.311218384419629, 7.26080...\n",
      "Name: rt, dtype: object\n",
      "stimulus_block\n",
      "high_face           [7.169196041109819, 7.14685091681062, 7.214577...\n",
      "high_face_revert    [7.225044695908821, 7.280697195384741, 7.45807...\n",
      "low_face            [7.71503439324667, 6.855303418577701, 7.261997...\n",
      "low_face_revert     [7.1963869007553365, 7.401292311679093, 7.0366...\n",
      "Name: rt, dtype: object\n",
      "stimulus_block\n",
      "high_face           [7.047169335096643, 7.43955930913332, 7.148817...\n",
      "high_face_revert    [7.657519059960978, 7.8787235721469875, 7.2390...\n",
      "low_face            [7.587867877464859, 7.613966748494765, 7.79181...\n",
      "low_face_revert     [7.196386899326183, 7.361502486193002, 7.26192...\n",
      "Name: rt, dtype: object\n",
      "stimulus_block\n",
      "high_face           [7.352697478610378, 7.136562758706977, 6.98868...\n",
      "high_face_revert    [7.419260671195432, 7.542531546417952, 7.12254...\n",
      "low_face            [7.2485040723706105, 7.360103972989152, 7.2376...\n",
      "low_face_revert     [7.237346754236768, 7.3396675576005, 7.5396119...\n",
      "Name: rt, dtype: object\n",
      "stimulus_block\n",
      "high_face           [7.2762105614564, 7.348651878920128, 7.2476502...\n",
      "high_face_revert    [7.323566679142971, 7.327977628065698, 7.15789...\n",
      "low_face            [7.2801460793603585, 7.147873934501137, 7.1235...\n",
      "low_face_revert     [7.438854007588121, 7.394431642514209, 7.23237...\n",
      "Name: rt, dtype: object\n",
      "stimulus_block\n",
      "high_face           [7.244013207471674, 7.121979169353334, 7.15539...\n",
      "high_face_revert    [7.247650223695494, 7.250493556640444, 7.34077...\n",
      "low_face            [7.317013184568946, 7.365812837209472, 7.74322...\n",
      "low_face_revert     [7.480089839110107, 7.285438005816372, 7.32257...\n",
      "Name: rt, dtype: object\n",
      "stimulus_block\n",
      "high_face           [7.641564441260972, 6.98988810887205, 7.109634...\n",
      "high_face_revert    [7.075301549871314, 7.091409281327338, 7.16169...\n",
      "low_face            [6.870676271136596, 6.9385754224317, 7.0233136...\n",
      "low_face_revert     [7.099201743553092, 7.159447414293936, 7.47800...\n",
      "Name: rt, dtype: object\n",
      "stimulus_block\n",
      "high_face           [7.033241899696518, 7.193234927591985, 7.76012...\n",
      "high_face_revert    [7.463649866115706, 7.537909410011024, 7.43579...\n",
      "low_face            [7.4396768114910685, 7.202661196523238, 7.0674...\n",
      "low_face_revert     [7.4112541273616666, 7.4943189737149245, 7.386...\n",
      "Name: rt, dtype: object\n",
      "stimulus_block\n",
      "high_face           [7.464452526185565, 6.997778780583839, 7.08815...\n",
      "high_face_revert    [7.296345469606815, 7.316082952196606, 7.15828...\n",
      "low_face            [7.373499851786361, 7.455471980890692, 7.35455...\n",
      "low_face_revert     [7.446468405789844, 7.3421964955738686, 7.3707...\n",
      "Name: rt, dtype: object\n",
      "stimulus_block\n",
      "high_face           [7.8511941427755945, 7.201469123665914, 7.2168...\n",
      "high_face_revert    [7.3366764631264, 7.62383743082476, 7.54374992...\n",
      "low_face            [7.407135655063499, 7.261014395619831, 7.35800...\n",
      "low_face_revert     [6.990072321471179, 7.31681392260006, 7.564808...\n",
      "Name: rt, dtype: object\n",
      "stimulus_block\n",
      "high_face           [7.115907012167325, 7.017237290282956, 7.10922...\n",
      "high_face_revert    [7.398541446476342, 7.309546981723993, 7.10636...\n",
      "low_face            [7.146614686135515, 7.121252453244542, 7.31355...\n",
      "low_face_revert     [7.074540096626962, 7.195787289626201, 7.03403...\n",
      "Name: rt, dtype: object\n",
      "stimulus_block\n",
      "high_face           [6.72731195674305, 7.189620466400124, 7.179079...\n",
      "high_face_revert    [7.327977628816972, 6.899521473285786, 7.20251...\n",
      "low_face            [7.156176637480615, 7.019207203935043, 7.01499...\n",
      "low_face_revert     [7.299729796650035, 7.175413199311102, 7.38968...\n",
      "Name: rt, dtype: object\n",
      "stimulus_block\n",
      "high_face           [6.6848616964827245, 7.400681662802042, 6.9829...\n",
      "high_face_revert    [7.034740290715627, 7.222274005404886, 7.49787...\n",
      "low_face            [6.939544601425353, 7.055140265956919, 7.59709...\n",
      "low_face_revert     [7.306598510797415, 7.826363323792423, 7.57845...\n",
      "Name: rt, dtype: object\n",
      "stimulus_block\n",
      "high_face           [7.389749236786156, 7.210744595219309, 7.16904...\n",
      "high_face_revert    [7.4434296009407825, 8.178975432470558, 7.7633...\n",
      "low_face            [7.259116128097101, 6.787732235952291, 7.64017...\n",
      "low_face_revert     [7.075639788945865, 7.31634882227187, 7.254036...\n",
      "Name: rt, dtype: object\n",
      "stimulus_block\n",
      "high_face           [7.238137580965946, 7.208970365716502, 7.05600...\n",
      "high_face_revert    [7.308609773510665, 7.5411524551363085, 7.4072...\n",
      "low_face            [6.991820653047668, 7.260452322624018, 7.54813...\n",
      "low_face_revert     [7.100687015831716, 6.8573037346836205, 7.2578...\n",
      "Name: rt, dtype: object\n",
      "stimulus_block\n",
      "high_face           [7.1983331545816025, 7.165957046221908, 7.2883...\n",
      "high_face_revert    [7.2752415690664805, 7.3709230971585775, 7.130...\n",
      "low_face            [6.992739602711939, 7.519041433035887, 7.33341...\n",
      "low_face_revert     [7.490082624330294, 7.001518808750885, 7.30948...\n",
      "Name: rt, dtype: object\n",
      "stimulus_block\n",
      "high_face           [7.5352967024440884, 7.6708482100509, 7.395414...\n",
      "high_face_revert    [7.451590056576523, 8.197814032221203, 7.83526...\n",
      "low_face            [7.321122417995402, 7.907688385933279, 7.08915...\n",
      "low_face_revert     [8.202427650868268, 7.572245750292278, 7.66345...\n",
      "Name: rt, dtype: object\n",
      "stimulus_block\n",
      "high_face           [7.318804765131305, 7.117043283387039, 7.19765...\n",
      "high_face_revert    [6.992464006558604, 7.402390543116782, 7.18606...\n",
      "low_face            [7.229113877793302, 7.272953794656034, 7.15164...\n",
      "low_face_revert     [7.3223783256310515, 7.234177179749849, 7.3789...\n",
      "Name: rt, dtype: object\n",
      "stimulus_block\n",
      "high_face           [7.012475589731069, 7.170350286020603, 7.36182...\n",
      "high_face_revert    [7.690834567064481, 7.086905144650319, 7.05669...\n",
      "low_face            [7.150701457592526, 6.915028762901297, 7.58212...\n",
      "low_face_revert     [7.3592766588034495, 7.24522701591942, 6.83011...\n",
      "Name: rt, dtype: object\n",
      "stimulus_block\n",
      "high_face           [7.129377673895754, 7.2301285912497555, 7.2025...\n",
      "high_face_revert    [7.544913949314316, 7.11036953901465, 7.237993...\n",
      "low_face            [7.1026639512717535, 7.836014106618011, 7.2519...\n",
      "low_face_revert     [7.109307404062616, 7.294445231780164, 7.49203...\n",
      "Name: rt, dtype: object\n",
      "stimulus_block\n",
      "high_face           [7.049862295544917, 7.017864501640811, 7.19353...\n",
      "high_face_revert    [7.245940333590024, 6.98202752337886, 6.711253...\n",
      "low_face            [7.234970515786433, 7.144880627835574, 7.16123...\n",
      "low_face_revert     [6.8557248708375225, 7.135846569963342, 7.3922...\n",
      "Name: rt, dtype: object\n",
      "stimulus_block\n",
      "high_face           [7.311886164077165, 7.1539901621161635, 7.5604...\n",
      "high_face_revert    [7.503840746698951, 7.5157257625498755, 7.5991...\n",
      "low_face            [7.049862296268839, 7.446410053999004, 7.56122...\n",
      "low_face_revert     [7.365243415398875, 7.711146033811667, 7.68740...\n",
      "Name: rt, dtype: object\n",
      "stimulus_block\n",
      "high_face           [7.643339149739428, 7.631577143809911, 7.78480...\n",
      "high_face_revert    [8.06667841475435, 8.444106236308727, 7.794205...\n",
      "low_face            [7.378758408561015, 7.3758821482150125, 7.7818...\n",
      "low_face_revert     [8.662331957082475, 7.46896978828115, 7.925265...\n",
      "Name: rt, dtype: object\n"
     ]
    }
   ],
   "source": [
    "for single_df in df_lst:\n",
    "    get_rms_values(single_df)"
   ]
  },
  {
   "cell_type": "code",
   "execution_count": 817,
   "metadata": {},
   "outputs": [],
   "source": [
    "def get_rms_histogram_real_vs_standards():\n",
    "    for single_df in df_lst:\n",
    "        brms_df = get_brms_df(single_df)\n",
    "        brms_standard_df = get_rms_standards(brms_df)\n",
    "        \n",
    "        fig, axes = plt.subplots(nrows=1, ncols=2, figsize=(20, 5))\n",
    "\n",
    "        axes[0].set_xlabel('rt')\n",
    "        axes[0].set_ylabel('count')\n",
    "        axes[0].hist(brms_df.rt, bins=100)\n",
    "\n",
    "        axes[1].set_xlabel('rt standard')\n",
    "        axes[1].set_ylabel('count')\n",
    "        axes[1].hist(brms_standard_df.rt, bins=100)\n",
    "        plt.show()\n"
   ]
  },
  {
   "cell_type": "code",
   "execution_count": 784,
   "metadata": {},
   "outputs": [],
   "source": [
    "def get_rms_without_errors(single_df):\n",
    "    pass"
   ]
  },
  {
   "cell_type": "code",
   "execution_count": 818,
   "metadata": {},
   "outputs": [],
   "source": [
    "def get_result_df():\n",
    "    result_df = pd.DataFrame()\n",
    "    for df_current in df_lst:\n",
    "        rms_anwers = get_rms_values(df_current)\n",
    "        cpt_response = get_standards_cpt_result(df_current)\n",
    "        stimulus_missed = df_current[~df_current.stimulus_missed.isnull()].shape[0]\n",
    "        asrs_answers = get_asrs_answers(df_current)\n",
    "        q1_answers = get_q1_answers(df_current)\n",
    "        result_df = result_df.append(\n",
    "            {\n",
    "                #'age': get_one_value(df_current, 2),\n",
    "                #'gender': q1_answers[0],\n",
    "                #'strong_hand': q1_answers[1],\n",
    "                #'main_lang': q1_answers[2],\n",
    "                #'adhd': get_one_value(df_current, 3),\n",
    "                #'feel_adhd': get_one_value(df_current, 4),\n",
    "                'brms_rt_mean': rms_anwers[0],\n",
    "                'brms_rt_mean_std': rms_anwers[1],\n",
    "                'brms_rt_mean_high': rms_anwers[2],\n",
    "                'brms_rt_mean_high_reverted': rms_anwers[3],\n",
    "                'brms_rt_mean_low': rms_anwers[4],\n",
    "                'brms_rt_mean_low_reverted': rms_anwers[5],\n",
    "                #'brms_trial_count': rms_anwers[6],\n",
    "                #'asrs_1_count': asrs_answers[0],\n",
    "                'asrs_count': asrs_answers[1] + asrs_answers[0],\n",
    "                'asrs_high_adhd': asrs_answers[0] >= 24 or asrs_answers[1] >= 24,\n",
    "                # 'asrs_med_adhd': 17 <= asrs_answers[0] < 24 or 17 <= asrs_answers[1] < 24,\n",
    "                'cpt_response_mean': cpt_response.mean(),\n",
    "                'cpt_response_mean_std': cpt_response.std(),\n",
    "                'cpt_misses': stimulus_missed,\n",
    "                'hps_count': get_hps_count(df_current),\n",
    "                # \"brms_understood\": get_one_value(df_current, 88),\n",
    "                # \"brms_stratagy_exist\": get_one_value(df_current, 89),\n",
    "                # \"brms_stratagy\": get_one_value(df_current, 90),\n",
    "                # \"cpt_understood\": get_one_value(df_current, 91),\n",
    "                # \"cpt_stratagy_exist\": get_one_value(df_current, 92),\n",
    "                # \"cpt_stratagy\": get_one_value(df_current, 93),\n",
    "                # \"your_driving\": get_one_value(df_current, 94),\n",
    "                # \"accedint_driver\": get_one_value(df_current, 95),\n",
    "                # \"accedint_walker\": get_one_value(df_current, 96),\n",
    "            }, ignore_index=True)\n",
    "    \n",
    "    return result_df"
   ]
  },
  {
   "cell_type": "code",
   "execution_count": 819,
   "metadata": {},
   "outputs": [],
   "source": [
    "result_df = get_result_df()"
   ]
  },
  {
   "cell_type": "code",
   "execution_count": 787,
   "metadata": {},
   "outputs": [],
   "source": [
    "result_df.to_csv('result.csv')"
   ]
  },
  {
   "cell_type": "code",
   "execution_count": 788,
   "metadata": {},
   "outputs": [],
   "source": [
    "def tanslate_heb(value):\n",
    "    if value == 'אישה':\n",
    "        return 'Female'\n",
    "    elif value == 'גבר':\n",
    "        return \"Male\"\n",
    "    elif value == 'ימין':\n",
    "        return 'Right'\n",
    "    elif value == 'שמאל':\n",
    "        return 'Left'\n",
    "    elif value == 'נכון':\n",
    "        return 'True'\n",
    "    elif value == 'לא נכון':\n",
    "        return 'False'\n",
    "    elif value == 'כן':\n",
    "        return 'Yes'\n",
    "    elif value == 'לא':\n",
    "        return 'No'\n",
    "    else:\n",
    "        return value"
   ]
  },
  {
   "cell_type": "code",
   "execution_count": 789,
   "metadata": {},
   "outputs": [],
   "source": [
    "def fix_heb_columns(df):\n",
    "    result_df['feel_adhd'] = pd.to_numeric(result_df['feel_adhd'])\n",
    "    result_df['age'] = pd.to_numeric(result_df['age'])\n",
    "    result_df['strong_hand'] = result_df['strong_hand'].apply(tanslate_heb)\n",
    "    result_df['main_lang'] = result_df['main_lang'].apply(tanslate_heb)\n",
    "    result_df['gender'] = result_df['gender'].apply(tanslate_heb)"
   ]
  },
  {
   "cell_type": "code",
   "execution_count": 821,
   "metadata": {},
   "outputs": [
    {
     "data": {
      "text/html": [
       "<div>\n",
       "<style scoped>\n",
       "    .dataframe tbody tr th:only-of-type {\n",
       "        vertical-align: middle;\n",
       "    }\n",
       "\n",
       "    .dataframe tbody tr th {\n",
       "        vertical-align: top;\n",
       "    }\n",
       "\n",
       "    .dataframe thead th {\n",
       "        text-align: right;\n",
       "    }\n",
       "</style>\n",
       "<table border=\"1\" class=\"dataframe\">\n",
       "  <thead>\n",
       "    <tr style=\"text-align: right;\">\n",
       "      <th></th>\n",
       "      <th>brms_rt_mean</th>\n",
       "      <th>brms_rt_mean_std</th>\n",
       "      <th>brms_rt_mean_high_reverted</th>\n",
       "      <th>brms_rt_mean_low</th>\n",
       "      <th>brms_rt_mean_low_reverted</th>\n",
       "      <th>asrs_count</th>\n",
       "      <th>asrs_high_adhd</th>\n",
       "      <th>cpt_response_mean</th>\n",
       "      <th>cpt_response_mean_std</th>\n",
       "      <th>cpt_misses</th>\n",
       "      <th>hps_count</th>\n",
       "    </tr>\n",
       "  </thead>\n",
       "  <tbody>\n",
       "    <tr>\n",
       "      <th>brms_rt_mean</th>\n",
       "      <td>1.000000</td>\n",
       "      <td>0.784887</td>\n",
       "      <td>0.967525</td>\n",
       "      <td>0.948587</td>\n",
       "      <td>0.935758</td>\n",
       "      <td>0.041701</td>\n",
       "      <td>0.131524</td>\n",
       "      <td>0.056552</td>\n",
       "      <td>0.162619</td>\n",
       "      <td>0.100200</td>\n",
       "      <td>0.029816</td>\n",
       "    </tr>\n",
       "    <tr>\n",
       "      <th>brms_rt_mean_std</th>\n",
       "      <td>0.784887</td>\n",
       "      <td>1.000000</td>\n",
       "      <td>0.742725</td>\n",
       "      <td>0.807419</td>\n",
       "      <td>0.711011</td>\n",
       "      <td>-0.041600</td>\n",
       "      <td>0.031906</td>\n",
       "      <td>0.120208</td>\n",
       "      <td>0.055515</td>\n",
       "      <td>0.051783</td>\n",
       "      <td>-0.055005</td>\n",
       "    </tr>\n",
       "    <tr>\n",
       "      <th>brms_rt_mean_high_reverted</th>\n",
       "      <td>0.967525</td>\n",
       "      <td>0.742725</td>\n",
       "      <td>1.000000</td>\n",
       "      <td>0.881802</td>\n",
       "      <td>0.931430</td>\n",
       "      <td>0.099844</td>\n",
       "      <td>0.164916</td>\n",
       "      <td>0.083292</td>\n",
       "      <td>0.092696</td>\n",
       "      <td>0.083055</td>\n",
       "      <td>0.026592</td>\n",
       "    </tr>\n",
       "    <tr>\n",
       "      <th>brms_rt_mean_low</th>\n",
       "      <td>0.948587</td>\n",
       "      <td>0.807419</td>\n",
       "      <td>0.881802</td>\n",
       "      <td>1.000000</td>\n",
       "      <td>0.819367</td>\n",
       "      <td>-0.018899</td>\n",
       "      <td>0.120902</td>\n",
       "      <td>0.073710</td>\n",
       "      <td>0.171839</td>\n",
       "      <td>0.106762</td>\n",
       "      <td>-0.019689</td>\n",
       "    </tr>\n",
       "    <tr>\n",
       "      <th>brms_rt_mean_low_reverted</th>\n",
       "      <td>0.935758</td>\n",
       "      <td>0.711011</td>\n",
       "      <td>0.931430</td>\n",
       "      <td>0.819367</td>\n",
       "      <td>1.000000</td>\n",
       "      <td>0.165858</td>\n",
       "      <td>0.218953</td>\n",
       "      <td>0.110303</td>\n",
       "      <td>0.114168</td>\n",
       "      <td>0.193457</td>\n",
       "      <td>0.116967</td>\n",
       "    </tr>\n",
       "    <tr>\n",
       "      <th>asrs_count</th>\n",
       "      <td>0.041701</td>\n",
       "      <td>-0.041600</td>\n",
       "      <td>0.099844</td>\n",
       "      <td>-0.018899</td>\n",
       "      <td>0.165858</td>\n",
       "      <td>1.000000</td>\n",
       "      <td>0.732314</td>\n",
       "      <td>0.176421</td>\n",
       "      <td>-0.290034</td>\n",
       "      <td>0.090093</td>\n",
       "      <td>0.558095</td>\n",
       "    </tr>\n",
       "    <tr>\n",
       "      <th>asrs_high_adhd</th>\n",
       "      <td>0.131524</td>\n",
       "      <td>0.031906</td>\n",
       "      <td>0.164916</td>\n",
       "      <td>0.120902</td>\n",
       "      <td>0.218953</td>\n",
       "      <td>0.732314</td>\n",
       "      <td>1.000000</td>\n",
       "      <td>0.221378</td>\n",
       "      <td>-0.155595</td>\n",
       "      <td>0.206623</td>\n",
       "      <td>0.543751</td>\n",
       "    </tr>\n",
       "    <tr>\n",
       "      <th>cpt_response_mean</th>\n",
       "      <td>0.056552</td>\n",
       "      <td>0.120208</td>\n",
       "      <td>0.083292</td>\n",
       "      <td>0.073710</td>\n",
       "      <td>0.110303</td>\n",
       "      <td>0.176421</td>\n",
       "      <td>0.221378</td>\n",
       "      <td>1.000000</td>\n",
       "      <td>-0.610411</td>\n",
       "      <td>0.574500</td>\n",
       "      <td>0.141849</td>\n",
       "    </tr>\n",
       "    <tr>\n",
       "      <th>cpt_response_mean_std</th>\n",
       "      <td>0.162619</td>\n",
       "      <td>0.055515</td>\n",
       "      <td>0.092696</td>\n",
       "      <td>0.171839</td>\n",
       "      <td>0.114168</td>\n",
       "      <td>-0.290034</td>\n",
       "      <td>-0.155595</td>\n",
       "      <td>-0.610411</td>\n",
       "      <td>1.000000</td>\n",
       "      <td>-0.169175</td>\n",
       "      <td>-0.247092</td>\n",
       "    </tr>\n",
       "    <tr>\n",
       "      <th>cpt_misses</th>\n",
       "      <td>0.100200</td>\n",
       "      <td>0.051783</td>\n",
       "      <td>0.083055</td>\n",
       "      <td>0.106762</td>\n",
       "      <td>0.193457</td>\n",
       "      <td>0.090093</td>\n",
       "      <td>0.206623</td>\n",
       "      <td>0.574500</td>\n",
       "      <td>-0.169175</td>\n",
       "      <td>1.000000</td>\n",
       "      <td>-0.049900</td>\n",
       "    </tr>\n",
       "    <tr>\n",
       "      <th>hps_count</th>\n",
       "      <td>0.029816</td>\n",
       "      <td>-0.055005</td>\n",
       "      <td>0.026592</td>\n",
       "      <td>-0.019689</td>\n",
       "      <td>0.116967</td>\n",
       "      <td>0.558095</td>\n",
       "      <td>0.543751</td>\n",
       "      <td>0.141849</td>\n",
       "      <td>-0.247092</td>\n",
       "      <td>-0.049900</td>\n",
       "      <td>1.000000</td>\n",
       "    </tr>\n",
       "  </tbody>\n",
       "</table>\n",
       "</div>"
      ],
      "text/plain": [
       "                            brms_rt_mean  brms_rt_mean_std  \\\n",
       "brms_rt_mean                    1.000000          0.784887   \n",
       "brms_rt_mean_std                0.784887          1.000000   \n",
       "brms_rt_mean_high_reverted      0.967525          0.742725   \n",
       "brms_rt_mean_low                0.948587          0.807419   \n",
       "brms_rt_mean_low_reverted       0.935758          0.711011   \n",
       "asrs_count                      0.041701         -0.041600   \n",
       "asrs_high_adhd                  0.131524          0.031906   \n",
       "cpt_response_mean               0.056552          0.120208   \n",
       "cpt_response_mean_std           0.162619          0.055515   \n",
       "cpt_misses                      0.100200          0.051783   \n",
       "hps_count                       0.029816         -0.055005   \n",
       "\n",
       "                            brms_rt_mean_high_reverted  brms_rt_mean_low  \\\n",
       "brms_rt_mean                                  0.967525          0.948587   \n",
       "brms_rt_mean_std                              0.742725          0.807419   \n",
       "brms_rt_mean_high_reverted                    1.000000          0.881802   \n",
       "brms_rt_mean_low                              0.881802          1.000000   \n",
       "brms_rt_mean_low_reverted                     0.931430          0.819367   \n",
       "asrs_count                                    0.099844         -0.018899   \n",
       "asrs_high_adhd                                0.164916          0.120902   \n",
       "cpt_response_mean                             0.083292          0.073710   \n",
       "cpt_response_mean_std                         0.092696          0.171839   \n",
       "cpt_misses                                    0.083055          0.106762   \n",
       "hps_count                                     0.026592         -0.019689   \n",
       "\n",
       "                            brms_rt_mean_low_reverted  asrs_count  \\\n",
       "brms_rt_mean                                 0.935758    0.041701   \n",
       "brms_rt_mean_std                             0.711011   -0.041600   \n",
       "brms_rt_mean_high_reverted                   0.931430    0.099844   \n",
       "brms_rt_mean_low                             0.819367   -0.018899   \n",
       "brms_rt_mean_low_reverted                    1.000000    0.165858   \n",
       "asrs_count                                   0.165858    1.000000   \n",
       "asrs_high_adhd                               0.218953    0.732314   \n",
       "cpt_response_mean                            0.110303    0.176421   \n",
       "cpt_response_mean_std                        0.114168   -0.290034   \n",
       "cpt_misses                                   0.193457    0.090093   \n",
       "hps_count                                    0.116967    0.558095   \n",
       "\n",
       "                            asrs_high_adhd  cpt_response_mean  \\\n",
       "brms_rt_mean                      0.131524           0.056552   \n",
       "brms_rt_mean_std                  0.031906           0.120208   \n",
       "brms_rt_mean_high_reverted        0.164916           0.083292   \n",
       "brms_rt_mean_low                  0.120902           0.073710   \n",
       "brms_rt_mean_low_reverted         0.218953           0.110303   \n",
       "asrs_count                        0.732314           0.176421   \n",
       "asrs_high_adhd                    1.000000           0.221378   \n",
       "cpt_response_mean                 0.221378           1.000000   \n",
       "cpt_response_mean_std            -0.155595          -0.610411   \n",
       "cpt_misses                        0.206623           0.574500   \n",
       "hps_count                         0.543751           0.141849   \n",
       "\n",
       "                            cpt_response_mean_std  cpt_misses  hps_count  \n",
       "brms_rt_mean                             0.162619    0.100200   0.029816  \n",
       "brms_rt_mean_std                         0.055515    0.051783  -0.055005  \n",
       "brms_rt_mean_high_reverted               0.092696    0.083055   0.026592  \n",
       "brms_rt_mean_low                         0.171839    0.106762  -0.019689  \n",
       "brms_rt_mean_low_reverted                0.114168    0.193457   0.116967  \n",
       "asrs_count                              -0.290034    0.090093   0.558095  \n",
       "asrs_high_adhd                          -0.155595    0.206623   0.543751  \n",
       "cpt_response_mean                       -0.610411    0.574500   0.141849  \n",
       "cpt_response_mean_std                    1.000000   -0.169175  -0.247092  \n",
       "cpt_misses                              -0.169175    1.000000  -0.049900  \n",
       "hps_count                               -0.247092   -0.049900   1.000000  "
      ]
     },
     "execution_count": 821,
     "metadata": {},
     "output_type": "execute_result"
    }
   ],
   "source": [
    "result_df.corr()"
   ]
  },
  {
   "cell_type": "markdown",
   "metadata": {},
   "source": []
  },
  {
   "cell_type": "code",
   "execution_count": 799,
   "metadata": {},
   "outputs": [
    {
     "data": {
      "text/html": [
       "<div>\n",
       "<style scoped>\n",
       "    .dataframe tbody tr th:only-of-type {\n",
       "        vertical-align: middle;\n",
       "    }\n",
       "\n",
       "    .dataframe tbody tr th {\n",
       "        vertical-align: top;\n",
       "    }\n",
       "\n",
       "    .dataframe thead th {\n",
       "        text-align: right;\n",
       "    }\n",
       "</style>\n",
       "<table border=\"1\" class=\"dataframe\">\n",
       "  <thead>\n",
       "    <tr style=\"text-align: right;\">\n",
       "      <th></th>\n",
       "      <th>brms_rt_mean</th>\n",
       "      <th>brms_rt_mean_std</th>\n",
       "      <th>asrs_count</th>\n",
       "      <th>asrs_high_adhd</th>\n",
       "      <th>cpt_response_mean</th>\n",
       "      <th>cpt_response_mean_std</th>\n",
       "      <th>cpt_misses</th>\n",
       "      <th>hps_count</th>\n",
       "    </tr>\n",
       "  </thead>\n",
       "  <tbody>\n",
       "    <tr>\n",
       "      <th>brms_rt_mean</th>\n",
       "      <td>1.0***</td>\n",
       "      <td>0.78***</td>\n",
       "      <td>0.04</td>\n",
       "      <td>0.13</td>\n",
       "      <td>0.06</td>\n",
       "      <td>0.16</td>\n",
       "      <td>0.1</td>\n",
       "      <td>0.03</td>\n",
       "    </tr>\n",
       "    <tr>\n",
       "      <th>brms_rt_mean_std</th>\n",
       "      <td>0.78***</td>\n",
       "      <td>1.0***</td>\n",
       "      <td>-0.04</td>\n",
       "      <td>0.03</td>\n",
       "      <td>0.12</td>\n",
       "      <td>0.06</td>\n",
       "      <td>0.05</td>\n",
       "      <td>-0.06</td>\n",
       "    </tr>\n",
       "    <tr>\n",
       "      <th>asrs_count</th>\n",
       "      <td>0.04</td>\n",
       "      <td>-0.04</td>\n",
       "      <td>1.0***</td>\n",
       "      <td>0.73***</td>\n",
       "      <td>0.18</td>\n",
       "      <td>-0.29*</td>\n",
       "      <td>0.09</td>\n",
       "      <td>0.56***</td>\n",
       "    </tr>\n",
       "    <tr>\n",
       "      <th>asrs_high_adhd</th>\n",
       "      <td>0.13</td>\n",
       "      <td>0.03</td>\n",
       "      <td>0.73***</td>\n",
       "      <td>1.0***</td>\n",
       "      <td>0.22</td>\n",
       "      <td>-0.16</td>\n",
       "      <td>0.21</td>\n",
       "      <td>0.54***</td>\n",
       "    </tr>\n",
       "    <tr>\n",
       "      <th>cpt_response_mean</th>\n",
       "      <td>0.06</td>\n",
       "      <td>0.12</td>\n",
       "      <td>0.18</td>\n",
       "      <td>0.22</td>\n",
       "      <td>1.0***</td>\n",
       "      <td>-0.61***</td>\n",
       "      <td>0.57***</td>\n",
       "      <td>0.14</td>\n",
       "    </tr>\n",
       "    <tr>\n",
       "      <th>cpt_response_mean_std</th>\n",
       "      <td>0.16</td>\n",
       "      <td>0.06</td>\n",
       "      <td>-0.29*</td>\n",
       "      <td>-0.16</td>\n",
       "      <td>-0.61***</td>\n",
       "      <td>1.0***</td>\n",
       "      <td>-0.17</td>\n",
       "      <td>-0.25</td>\n",
       "    </tr>\n",
       "    <tr>\n",
       "      <th>cpt_misses</th>\n",
       "      <td>0.1</td>\n",
       "      <td>0.05</td>\n",
       "      <td>0.09</td>\n",
       "      <td>0.21</td>\n",
       "      <td>0.57***</td>\n",
       "      <td>-0.17</td>\n",
       "      <td>1.0***</td>\n",
       "      <td>-0.05</td>\n",
       "    </tr>\n",
       "    <tr>\n",
       "      <th>hps_count</th>\n",
       "      <td>0.03</td>\n",
       "      <td>-0.06</td>\n",
       "      <td>0.56***</td>\n",
       "      <td>0.54***</td>\n",
       "      <td>0.14</td>\n",
       "      <td>-0.25</td>\n",
       "      <td>-0.05</td>\n",
       "      <td>1.0***</td>\n",
       "    </tr>\n",
       "  </tbody>\n",
       "</table>\n",
       "</div>"
      ],
      "text/plain": [
       "                      brms_rt_mean brms_rt_mean_std asrs_count asrs_high_adhd  \\\n",
       "brms_rt_mean                1.0***          0.78***       0.04           0.13   \n",
       "brms_rt_mean_std           0.78***           1.0***      -0.04           0.03   \n",
       "asrs_count                    0.04            -0.04     1.0***        0.73***   \n",
       "asrs_high_adhd                0.13             0.03    0.73***         1.0***   \n",
       "cpt_response_mean             0.06             0.12       0.18           0.22   \n",
       "cpt_response_mean_std         0.16             0.06     -0.29*          -0.16   \n",
       "cpt_misses                     0.1             0.05       0.09           0.21   \n",
       "hps_count                     0.03            -0.06    0.56***        0.54***   \n",
       "\n",
       "                      cpt_response_mean cpt_response_mean_std cpt_misses  \\\n",
       "brms_rt_mean                       0.06                  0.16        0.1   \n",
       "brms_rt_mean_std                   0.12                  0.06       0.05   \n",
       "asrs_count                         0.18                -0.29*       0.09   \n",
       "asrs_high_adhd                     0.22                 -0.16       0.21   \n",
       "cpt_response_mean                1.0***              -0.61***    0.57***   \n",
       "cpt_response_mean_std          -0.61***                1.0***      -0.17   \n",
       "cpt_misses                      0.57***                 -0.17     1.0***   \n",
       "hps_count                          0.14                 -0.25      -0.05   \n",
       "\n",
       "                      hps_count  \n",
       "brms_rt_mean               0.03  \n",
       "brms_rt_mean_std          -0.06  \n",
       "asrs_count              0.56***  \n",
       "asrs_high_adhd          0.54***  \n",
       "cpt_response_mean          0.14  \n",
       "cpt_response_mean_std     -0.25  \n",
       "cpt_misses                -0.05  \n",
       "hps_count                1.0***  "
      ]
     },
     "execution_count": 799,
     "metadata": {},
     "output_type": "execute_result"
    }
   ],
   "source": [
    "rho = result_df.corr()\n",
    "pval = result_df.corr(method=lambda x, y: pearsonr(x, y)[1]) - np.eye(*rho.shape)\n",
    "p = pval.applymap(lambda x: ''.join(['*' for t in [0.01,0.05,0.1] if x<=t]))\n",
    "rho.round(2).astype(str) + p"
   ]
  },
  {
   "cell_type": "code",
   "execution_count": 792,
   "metadata": {},
   "outputs": [
    {
     "data": {
      "image/png": "[encoded data removed]",
      "text/plain": [
       "<Figure size 432x288 with 1 Axes>"
      ]
     },
     "metadata": {
      "needs_background": "light"
     },
     "output_type": "display_data"
    }
   ],
   "source": [
    "all_df = []\n",
    "for single_df in df_lst:\n",
    "    cpt_result = get_standards_cpt_result(single_df)\n",
    "    all_df.append(cpt_result)\n",
    "    plt.xlabel(\"cpt result\")\n",
    "    plt.xticks(np.arange(0, 10000, 250))\n",
    "    plt.ylabel(\"count\")\n",
    "    plt.hist(cpt_result.cpt_response_time)\n",
    "    # plt.show()\n"
   ]
  },
  {
   "cell_type": "code",
   "execution_count": 793,
   "metadata": {},
   "outputs": [
    {
     "data": {
      "image/png": "[encoded data removed]",
      "text/plain": [
       "<Figure size 432x288 with 1 Axes>"
      ]
     },
     "metadata": {
      "needs_background": "light"
     },
     "output_type": "display_data"
    },
    {
     "ename": "ValueError",
     "evalue": "not enough values to unpack (expected 6, got 4)",
     "output_type": "error",
     "traceback": [
      "\u001b[1;31m---------------------------------------------------------------------------\u001b[0m",
      "\u001b[1;31mValueError\u001b[0m                                Traceback (most recent call last)",
      "\u001b[1;32mC:\\Users\\T-NWEI~1\\AppData\\Local\\Temp/ipykernel_16464/3110049475.py\u001b[0m in \u001b[0;36m<module>\u001b[1;34m\u001b[0m\n\u001b[0;32m     15\u001b[0m         ((single_df.key_press != 'Q') & (single_df.stimulus_side == 1)))\n\u001b[0;32m     16\u001b[0m     ]\n\u001b[1;32m---> 17\u001b[1;33m     brms_rt_mean, brms_rt_mean_sd, brms_missed, brms_stimulus_block, brms_rt_diff_mean, brms_rt_diff_mean_sd = get_rms_values(\n\u001b[0m\u001b[0;32m     18\u001b[0m         single_df)\n\u001b[0;32m     19\u001b[0m     \u001b[1;32mif\u001b[0m \u001b[0mbrms_missed\u001b[0m \u001b[1;33m/\u001b[0m \u001b[1;36m60\u001b[0m \u001b[1;33m>\u001b[0m \u001b[1;36m0.2\u001b[0m\u001b[1;33m:\u001b[0m\u001b[1;33m\u001b[0m\u001b[1;33m\u001b[0m\u001b[0m\n",
      "\u001b[1;31mValueError\u001b[0m: not enough values to unpack (expected 6, got 4)"
     ]
    }
   ],
   "source": [
    "brms_df = df[(df.trial_type == 'bRMS') & (\n",
    "    df.stimulus_block != \"training\")]\n",
    "\n",
    "rt = brms_df.rt.values.reshape(-1, 1)\n",
    "plt.xlabel(\"rt\")\n",
    "plt.ylabel(\"count\")\n",
    "plt.hist(rt, bins=500)\n",
    "plt.show()\n",
    "\n",
    "for single_df in df_lst:\n",
    "    brms_df = single_df[\n",
    "        (single_df.trial_type == 'bRMS') &\n",
    "        (single_df.stimulus_block != \"training\") &\n",
    "        ~(((single_df.key_press != 'P') & (single_df.stimulus_side == 0)) |\n",
    "        ((single_df.key_press != 'Q') & (single_df.stimulus_side == 1)))\n",
    "    ]\n",
    "    brms_rt_mean, brms_rt_mean_sd, brms_missed, brms_stimulus_block, brms_rt_diff_mean, brms_rt_diff_mean_sd = get_rms_values(\n",
    "        single_df)\n",
    "    if brms_missed / 60 > 0.2:\n",
    "        continue\n",
    "    rt = brms_df.rt.values.reshape(-1, 1)\n",
    "    plt.xlabel(\"rt\")\n",
    "    plt.xticks(np.arange(0, 10000, 250))\n",
    "    plt.ylabel(\"count\")\n",
    "    plt.hist(rt, bins=50)\n",
    "    plt.show()\n"
   ]
  },
  {
   "cell_type": "code",
   "execution_count": null,
   "metadata": {},
   "outputs": [
    {
     "data": {
      "image/png": "[encoded data removed]",
      "text/plain": [
       "<Figure size 432x288 with 1 Axes>"
      ]
     },
     "metadata": {
      "needs_background": "light"
     },
     "output_type": "display_data"
    }
   ],
   "source": [
    "from sklearn.linear_model import LinearRegression\n",
    "\n",
    "X = result_df.brms_rt_mean.values.reshape(-1, 1)\n",
    "Y = result_df.cpt_response_mean.values.reshape(-1, 1)\n",
    "linear_regressor = LinearRegression()\n",
    "linear_regressor.fit(X, Y)\n",
    "Y_pred = linear_regressor.predict(X)\n",
    "\n",
    "plt.xlabel(\"brms_rt_mean\")\n",
    "plt.ylabel(\"cpt_response\")\n",
    "plt.scatter(X, Y)\n",
    "plt.plot(X, Y_pred, color='red')\n",
    "plt.show()\n"
   ]
  },
  {
   "cell_type": "code",
   "execution_count": null,
   "metadata": {},
   "outputs": [
    {
     "data": {
      "image/png": "[encoded data removed]",
      "text/plain": [
       "<Figure size 432x288 with 1 Axes>"
      ]
     },
     "metadata": {
      "needs_background": "light"
     },
     "output_type": "display_data"
    }
   ],
   "source": [
    "from sklearn.linear_model import LinearRegression\n",
    "\n",
    "X = result_df.brms_rt_mean.values.reshape(-1, 1)\n",
    "Y = result_df.cpt_response_sd.values.reshape(-1, 1)\n",
    "linear_regressor = LinearRegression()\n",
    "linear_regressor.fit(X, Y)\n",
    "Y_pred = linear_regressor.predict(X)\n",
    "\n",
    "plt.xlabel(\"brms_rt_mean\")\n",
    "plt.ylabel(\"cpt_response_sd\")\n",
    "plt.scatter(X, Y)\n",
    "plt.plot(X, Y_pred, color='red')\n",
    "plt.show()\n"
   ]
  },
  {
   "cell_type": "code",
   "execution_count": null,
   "metadata": {},
   "outputs": [
    {
     "data": {
      "image/png": "[encoded data removed]",
      "text/plain": [
       "<Figure size 1440x360 with 6 Axes>"
      ]
     },
     "metadata": {
      "needs_background": "light"
     },
     "output_type": "display_data"
    }
   ],
   "source": [
    "from sklearn.linear_model import LinearRegression\n",
    "\n",
    "fig, axes = plt.subplots(nrows=1, ncols=6, figsize=(20, 5))\n",
    "\n",
    "X = result_df.brms_rt_mean.values.reshape(-1, 1)\n",
    "\n",
    "Y_1 = result_df.asrs_1_count.values.reshape(-1, 1)\n",
    "linear_regressor = LinearRegression()\n",
    "linear_regressor.fit(X, Y)\n",
    "Y_1_pred = linear_regressor.predict(X)\n",
    "\n",
    "axes[0].scatter(X, Y)\n",
    "axes[0].plot(X, Y_pred, color='red')\n",
    "axes[0].set_xlabel(\"brms_rt_mean\")\n",
    "axes[0].set_ylabel(\"asrs_1_count\")\n",
    "\n",
    "Y_2 = result_df.asrs_2_count.values.reshape(-1, 1)\n",
    "linear_regressor = LinearRegression()\n",
    "linear_regressor.fit(X, Y)\n",
    "Y_2_pred = linear_regressor.predict(X)\n",
    "\n",
    "axes[1].scatter(X, Y_2)\n",
    "axes[1].plot(X, Y_2_pred, color='red')\n",
    "axes[1].set_xlabel(\"brms_rt_mean\")\n",
    "axes[1].set_ylabel(\"asrs_2_count\")\n",
    "\n",
    "Y_3 = result_df.cpt_response_mean.values.reshape(-1, 1)\n",
    "linear_regressor = LinearRegression()\n",
    "linear_regressor.fit(X, Y)\n",
    "Y_3_pred = linear_regressor.predict(X)\n",
    "\n",
    "axes[2].scatter(X, Y_3)\n",
    "axes[2].plot(X, Y_3_pred, color='red')\n",
    "axes[2].set_xlabel(\"brms_rt_mean\")\n",
    "axes[2].set_ylabel(\"cpt_response_mean\")\n",
    "\n",
    "Y_4 = result_df.cpt_response_sd.values.reshape(-1, 1)\n",
    "linear_regressor = LinearRegression()\n",
    "linear_regressor.fit(X, Y)\n",
    "Y_4_pred = linear_regressor.predict(X)\n",
    "\n",
    "axes[3].scatter(X, Y_4)\n",
    "axes[3].plot(X, Y_4_pred, color='red')\n",
    "axes[3].set_xlabel(\"brms_rt_mean\")\n",
    "axes[3].set_ylabel(\"cpt_response_sd\")\n",
    "\n",
    "plt.show()"
   ]
  },
  {
   "cell_type": "code",
   "execution_count": null,
   "metadata": {},
   "outputs": [
    {
     "data": {
      "image/png": "[encoded data removed]",
      "text/plain": [
       "<Figure size 432x288 with 1 Axes>"
      ]
     },
     "metadata": {
      "needs_background": "light"
     },
     "output_type": "display_data"
    }
   ],
   "source": [
    "from sklearn.linear_model import LinearRegression\n",
    "\n",
    "X = result_df.brms_rt_mean.values.reshape(-1, 1)\n",
    "Y = result_df.asrs_2_count.values.reshape(-1, 1)\n",
    "linear_regressor = LinearRegression()\n",
    "linear_regressor.fit(X, Y)\n",
    "Y_pred = linear_regressor.predict(X)\n",
    "\n",
    "plt.xlabel(\"brms_rt_mean\")\n",
    "plt.ylabel(\"asrs_2_count\")\n",
    "plt.scatter(X, Y)\n",
    "plt.plot(X, Y_pred, color='red')\n",
    "plt.show()"
   ]
  },
  {
   "cell_type": "code",
   "execution_count": null,
   "metadata": {},
   "outputs": [
    {
     "data": {
      "image/png": "[encoded data removed]",
      "text/plain": [
       "<Figure size 432x288 with 1 Axes>"
      ]
     },
     "metadata": {
      "needs_background": "light"
     },
     "output_type": "display_data"
    }
   ],
   "source": [
    "from sklearn.linear_model import LinearRegression\n",
    "\n",
    "X = result_df.brms_rt_diff_mean.values.reshape(-1, 1)\n",
    "Y = result_df.asrs_1_count.values.reshape(-1, 1)\n",
    "linear_regressor = LinearRegression()\n",
    "linear_regressor.fit(X, Y)\n",
    "Y_pred = linear_regressor.predict(X)\n",
    "\n",
    "plt.xlabel(\"brms_rt_diff_mean\")\n",
    "plt.ylabel(\"asrs_1_count\")\n",
    "plt.scatter(X, Y)\n",
    "plt.plot(X, Y_pred, color='red')\n",
    "plt.show()"
   ]
  },
  {
   "cell_type": "code",
   "execution_count": null,
   "metadata": {},
   "outputs": [
    {
     "data": {
      "image/png": "[encoded data removed]",
      "text/plain": [
       "<Figure size 432x288 with 1 Axes>"
      ]
     },
     "metadata": {
      "needs_background": "light"
     },
     "output_type": "display_data"
    }
   ],
   "source": [
    "from sklearn.linear_model import LinearRegression\n",
    "\n",
    "X = result_df.brms_rt_diff_mean.values.reshape(-1, 1)\n",
    "Y = result_df.asrs_2_count.values.reshape(-1, 1)\n",
    "linear_regressor = LinearRegression()\n",
    "linear_regressor.fit(X, Y)\n",
    "Y_pred = linear_regressor.predict(X)\n",
    "\n",
    "plt.xlabel(\"brms_rt_diff_mean\")\n",
    "plt.ylabel(\"asrs_2_count\")\n",
    "plt.scatter(X, Y)\n",
    "plt.plot(X, Y_pred, color='red')\n",
    "plt.show()"
   ]
  },
  {
   "cell_type": "code",
   "execution_count": null,
   "metadata": {},
   "outputs": [
    {
     "data": {
      "image/png": "[encoded data removed]",
      "text/plain": [
       "<Figure size 432x288 with 1 Axes>"
      ]
     },
     "metadata": {
      "needs_background": "light"
     },
     "output_type": "display_data"
    }
   ],
   "source": [
    "from sklearn.linear_model import LinearRegression\n",
    "\n",
    "X = result_df.brms_rt_diff_mean.values.reshape(-1, 1)\n",
    "Y = result_df.cpt_response_mean.values.reshape(-1, 1)\n",
    "linear_regressor = LinearRegression()\n",
    "linear_regressor.fit(X, Y)\n",
    "Y_pred = linear_regressor.predict(X)\n",
    "\n",
    "plt.xlabel(\"brms_rt_diff_mean\")\n",
    "plt.ylabel(\"cpt_response_mean\")\n",
    "plt.scatter(X, Y)\n",
    "plt.plot(X, Y_pred, color='red')\n",
    "plt.show()"
   ]
  },
  {
   "cell_type": "code",
   "execution_count": null,
   "metadata": {},
   "outputs": [
    {
     "data": {
      "image/png": "[encoded data removed]",
      "text/plain": [
       "<Figure size 432x288 with 1 Axes>"
      ]
     },
     "metadata": {
      "needs_background": "light"
     },
     "output_type": "display_data"
    }
   ],
   "source": [
    "from sklearn.linear_model import LinearRegression\n",
    "\n",
    "X = result_df.brms_rt_diff_mean.values.reshape(-1, 1)\n",
    "Y = result_df.cpt_response_sd.values.reshape(-1, 1)\n",
    "linear_regressor = LinearRegression()\n",
    "linear_regressor.fit(X, Y)\n",
    "Y_pred = linear_regressor.predict(X)\n",
    "\n",
    "plt.xlabel(\"brms_rt_diff_mean\")\n",
    "plt.ylabel(\"cpt_response_sd\")\n",
    "plt.scatter(X, Y)\n",
    "plt.plot(X, Y_pred, color='red')\n",
    "plt.show()"
   ]
  },
  {
   "cell_type": "code",
   "execution_count": null,
   "metadata": {},
   "outputs": [
    {
     "data": {
      "image/png": "[encoded data removed]",
      "text/plain": [
       "<Figure size 1440x360 with 6 Axes>"
      ]
     },
     "metadata": {
      "needs_background": "light"
     },
     "output_type": "display_data"
    }
   ],
   "source": [
    "fig, axes = plt.subplots(nrows=1, ncols=6, figsize=(20, 5))\n",
    "\n",
    "axes[0].bar(result_df.adhd, result_df.brms_rt_mean)\n",
    "axes[0].set_xlabel(\"adhd\")\n",
    "axes[0].set_ylabel(\"brms_rt_mean\")\n",
    "\n",
    "axes[1].bar(result_df.adhd, result_df.cpt_response_mean)\n",
    "axes[1].set_xlabel(\"adhd\")\n",
    "axes[1].set_ylabel(\"cpt_response_mean\")\n",
    "fig.tight_layout()\n",
    "\n",
    "axes[2].bar(result_df.adhd, result_df.cpt_response_sd)\n",
    "axes[2].set_xlabel(\"adhd\")\n",
    "axes[2].set_ylabel(\"cpt_response_mean_sd\")\n",
    "fig.tight_layout()\n",
    "\n",
    "axes[3].bar(result_df.adhd, result_df.hps_count)\n",
    "axes[3].set_xlabel(\"adhd\")\n",
    "axes[3].set_ylabel(\"hps_count\")\n",
    "fig.tight_layout(),\n",
    "\n",
    "axes[4].bar(result_df.adhd, result_df.asrs_1_count)\n",
    "axes[4].set_xlabel(\"adhd\")\n",
    "axes[4].set_ylabel(\"asrs_1_count\")\n",
    "fig.tight_layout()\n",
    "\n",
    "axes[5].bar(result_df.adhd, result_df.asrs_2_count)\n",
    "axes[5].set_xlabel(\"adhd\")\n",
    "axes[5].set_ylabel(\"asrs_2_count\")\n",
    "fig.tight_layout()\n",
    "\n",
    "plt.show()"
   ]
  },
  {
   "cell_type": "code",
   "execution_count": null,
   "metadata": {},
   "outputs": [
    {
     "data": {
      "image/png": "[encoded data removed]",
      "text/plain": [
       "<Figure size 1440x360 with 4 Axes>"
      ]
     },
     "metadata": {
      "needs_background": "light"
     },
     "output_type": "display_data"
    }
   ],
   "source": [
    "fig, axes = plt.subplots(nrows=1, ncols=4, figsize=(20, 5))\n",
    "\n",
    "axes[0].bar(result_df.asrs_high_adhd, result_df.brms_rt_mean)\n",
    "axes[0].set_xlabel(\"asrs_high_adhd\")\n",
    "axes[0].set_ylabel(\"brms_rt_mean\")\n",
    "\n",
    "axes[1].bar(result_df.asrs_high_adhd, result_df.cpt_response_mean)\n",
    "axes[1].set_xlabel(\"asrs_high_adhd\")\n",
    "axes[1].set_ylabel(\"cpt_response_mean\")\n",
    "fig.tight_layout()\n",
    "\n",
    "axes[2].bar(result_df.asrs_high_adhd, result_df.cpt_response_sd)\n",
    "axes[2].set_xlabel(\"asrs_high_adhd\")\n",
    "axes[2].set_ylabel(\"cpt_response_mean_sd\")\n",
    "fig.tight_layout()\n",
    "\n",
    "axes[3].bar(result_df.asrs_high_adhd, result_df.hps_count)\n",
    "axes[3].set_xlabel(\"asrs_high_adhd\")\n",
    "axes[3].set_ylabel(\"hps_count\")\n",
    "fig.tight_layout()\n",
    "\n",
    "plt.show()"
   ]
  },
  {
   "cell_type": "code",
   "execution_count": null,
   "metadata": {},
   "outputs": [
    {
     "data": {
      "image/png": "[encoded data removed]",
      "text/plain": [
       "<Figure size 1440x360 with 4 Axes>"
      ]
     },
     "metadata": {
      "needs_background": "light"
     },
     "output_type": "display_data"
    }
   ],
   "source": [
    "fig, axes = plt.subplots(nrows=1, ncols=4, figsize=(20, 5))\n",
    "\n",
    "axes[0].bar(result_df.asrs_med_adhd, result_df.brms_rt_mean)\n",
    "axes[0].set_xlabel(\"asrs_med_adhd\")\n",
    "axes[0].set_ylabel(\"brms_rt_mean\")\n",
    "\n",
    "axes[1].bar(result_df.asrs_med_adhd, result_df.cpt_response_mean)\n",
    "axes[1].set_xlabel(\"asrs_med_adhd\")\n",
    "axes[1].set_ylabel(\"cpt_response_mean\")\n",
    "fig.tight_layout()\n",
    "\n",
    "axes[2].bar(result_df.asrs_med_adhd, result_df.cpt_response_sd)\n",
    "axes[2].set_xlabel(\"asrs_med_adhd\")\n",
    "axes[2].set_ylabel(\"cpt_response_mean_sd\")\n",
    "fig.tight_layout()\n",
    "\n",
    "axes[3].bar(result_df.asrs_med_adhd, result_df.hps_count)\n",
    "axes[3].set_xlabel(\"asrs_med_adhd\")\n",
    "axes[3].set_ylabel(\"hps_count\")\n",
    "fig.tight_layout()\n",
    "\n",
    "plt.show()"
   ]
  },
  {
   "cell_type": "code",
   "execution_count": null,
   "metadata": {},
   "outputs": [
    {
     "data": {
      "image/png": "[encoded data removed]",
      "text/plain": [
       "<Figure size 1440x360 with 4 Axes>"
      ]
     },
     "metadata": {
      "needs_background": "light"
     },
     "output_type": "display_data"
    }
   ],
   "source": [
    "fig, axes = plt.subplots(nrows=1, ncols=4, figsize=(20, 5))\n",
    "\n",
    "axes[0].bar(result_df.main_lang, result_df.brms_rt_mean)\n",
    "axes[0].set_xlabel(\"main_lang\")\n",
    "axes[0].set_ylabel(\"brms_rt_mean\")\n",
    "fig.tight_layout()\n",
    "\n",
    "axes[1].bar(result_df.main_lang, result_df.cpt_response_mean)\n",
    "axes[1].set_xlabel(\"main_lang\")\n",
    "axes[1].set_ylabel(\"cpt_response_mean\")\n",
    "fig.tight_layout()\n",
    "\n",
    "axes[2].bar(result_df.main_lang, result_df.cpt_response_sd)\n",
    "axes[2].set_xlabel(\"main_lang\")\n",
    "axes[2].set_ylabel(\"cpt_response_mean_sd\")\n",
    "fig.tight_layout()\n",
    "\n",
    "axes[3].bar(result_df.main_lang, result_df.hps_count)\n",
    "axes[3].set_xlabel(\"main_lang\")\n",
    "axes[3].set_ylabel(\"hps_count\")\n",
    "fig.tight_layout()"
   ]
  },
  {
   "cell_type": "code",
   "execution_count": null,
   "metadata": {},
   "outputs": [
    {
     "data": {
      "image/png": "[encoded data removed]",
      "text/plain": [
       "<Figure size 1440x360 with 4 Axes>"
      ]
     },
     "metadata": {
      "needs_background": "light"
     },
     "output_type": "display_data"
    }
   ],
   "source": [
    "fig, axes = plt.subplots(nrows=1, ncols=4, figsize=(20, 5))\n",
    "\n",
    "axes[0].bar(result_df.strong_hand, result_df.brms_rt_mean)\n",
    "axes[0].set_xlabel(\"strong_hand\")\n",
    "axes[0].set_ylabel(\"brms_rt_mean\")\n",
    "fig.tight_layout()\n",
    "\n",
    "axes[1].bar(result_df.strong_hand, result_df.cpt_response_mean)\n",
    "axes[1].set_xlabel(\"strong_hand\")\n",
    "axes[1].set_ylabel(\"cpt_response_mean\")\n",
    "fig.tight_layout()\n",
    "\n",
    "axes[2].bar(result_df.strong_hand, result_df.cpt_response_sd)\n",
    "axes[2].set_xlabel(\"strong_hand\")\n",
    "axes[2].set_ylabel(\"cpt_response_mean_sd\")\n",
    "fig.tight_layout()\n",
    "\n",
    "axes[3].bar(result_df.strong_hand, result_df.hps_count)\n",
    "axes[3].set_xlabel(\"strong_hand\")\n",
    "axes[3].set_ylabel(\"hps_count\")\n",
    "fig.tight_layout()"
   ]
  },
  {
   "cell_type": "code",
   "execution_count": null,
   "metadata": {},
   "outputs": [
    {
     "data": {
      "image/png": "[encoded data removed]",
      "text/plain": [
       "<Figure size 1440x360 with 6 Axes>"
      ]
     },
     "metadata": {
      "needs_background": "light"
     },
     "output_type": "display_data"
    }
   ],
   "source": [
    "fig, axes = plt.subplots(nrows=1, ncols=6, figsize=(20, 5))\n",
    "\n",
    "axes[0].bar(result_df.gender, result_df.brms_rt_mean)\n",
    "axes[0].set_xlabel(\"gender\")\n",
    "axes[0].set_ylabel(\"brms_rt_mean\")\n",
    "\n",
    "axes[1].bar(result_df.gender, result_df.cpt_response_mean)\n",
    "axes[1].set_xlabel(\"gender\")\n",
    "axes[1].set_ylabel(\"cpt_response_mean\")\n",
    "fig.tight_layout()\n",
    "\n",
    "axes[2].bar(result_df.gender, result_df.cpt_response_sd)\n",
    "axes[2].set_xlabel(\"gender\")\n",
    "axes[2].set_ylabel(\"cpt_response_mean_sd\")\n",
    "fig.tight_layout()\n",
    "\n",
    "axes[3].bar(result_df.gender, result_df.hps_count)\n",
    "axes[3].set_xlabel(\"gender\")\n",
    "axes[3].set_ylabel(\"hps_count\")\n",
    "fig.tight_layout(),\n",
    "\n",
    "axes[4].bar(result_df.gender, result_df.asrs_1_count)\n",
    "axes[4].set_xlabel(\"gender\")\n",
    "axes[4].set_ylabel(\"asrs_1_count\")\n",
    "fig.tight_layout()\n",
    "\n",
    "axes[5].bar(result_df.gender, result_df.asrs_2_count)\n",
    "axes[5].set_xlabel(\"gender\")\n",
    "axes[5].set_ylabel(\"asrs_2_count\")\n",
    "fig.tight_layout()\n",
    "\n",
    "plt.show()"
   ]
  }
 ],
 "metadata": {
  "interpreter": {
   "hash": "5e49d1d782d0c81664cfef69a5a300da04b0c8dd1f7059897730ec0e8bf9da48"
  },
  "kernelspec": {
   "display_name": "Python 3.9.7 64-bit ('base': conda)",
   "language": "python",
   "name": "python3"
  },
  "language_info": {
   "codemirror_mode": {
    "name": "ipython",
    "version": 3
   },
   "file_extension": ".py",
   "mimetype": "text/x-python",
   "name": "python",
   "nbconvert_exporter": "python",
   "pygments_lexer": "ipython3",
   "version": "3.9.7"
  },
  "orig_nbformat": 4
 },
 "nbformat": 4,
 "nbformat_minor": 2
}
